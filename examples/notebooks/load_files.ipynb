{
 "cells": [
  {
   "cell_type": "code",
   "execution_count": null,
   "metadata": {
    "collapsed": true
   },
   "outputs": [],
   "source": [
    "import os\n",
    "\n",
    "import numpy as np\n",
    "from neudataload import NeuProfiles\n",
    "\n",
    "path = os.environ.get('NEUPATH')\n",
    "filename = 'cognitive-profiles-FINAL.xlsx'\n",
    "\n",
    "profiles = NeuProfiles(profiles_path=path, profiles_filename=filename)\n",
    "profiles.load()\n",
    "\n",
    "df = profiles.data_frame"
   ]
  }
 ],
 "metadata": {
  "kernelspec": {
   "display_name": "Python 3",
   "language": "python",
   "name": "python3"
  },
  "language_info": {
   "codemirror_mode": {
    "name": "ipython",
    "version": 3
   },
   "file_extension": ".py",
   "mimetype": "text/x-python",
   "name": "python",
   "nbconvert_exporter": "python",
   "pygments_lexer": "ipython3",
   "version": "3.6.5"
  }
 },
 "nbformat": 4,
 "nbformat_minor": 1
}
