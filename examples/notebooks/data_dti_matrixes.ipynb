{
 "cells": [
  {
   "cell_type": "code",
   "execution_count": null,
   "metadata": {},
   "outputs": [],
   "source": [
    "column_matrixes = ['DTI_FA', 'DTI_L1', 'DTI_MD', 'DTI_RX', ]\n",
    "\n",
    "available_columns = [\n",
    "    'degree',\n",
    "    'strength',\n",
    "    'global_eff',\n",
    "    'local_eff',\n",
    "    'clustering_coeff',\n",
    "    'transitivity',\n",
    "    'modularity',\n",
    "    'assortativity',\n",
    "]\n",
    "\n",
    "# Remove HV profiles??\n",
    "df = df[df.profile != 'HV']\n",
    "\n",
    "# Matrixes witout NAN values\n",
    "for column in column_matrixes:\n",
    "    df = df[df[column].notna()]\n",
    "\n",
    "display(df.head())"
   ]
  },
  {
   "cell_type": "code",
   "execution_count": null,
   "metadata": {},
   "outputs": [],
   "source": [
    "print(df.shape)"
   ]
  }
 ],
 "metadata": {
  "kernelspec": {
   "display_name": "Python 3",
   "language": "python",
   "name": "python3"
  },
  "language_info": {
   "codemirror_mode": {
    "name": "ipython",
    "version": 3
   },
   "file_extension": ".py",
   "mimetype": "text/x-python",
   "name": "python",
   "nbconvert_exporter": "python",
   "pygments_lexer": "ipython3",
   "version": "3.6.5"
  }
 },
 "nbformat": 4,
 "nbformat_minor": 2
}
