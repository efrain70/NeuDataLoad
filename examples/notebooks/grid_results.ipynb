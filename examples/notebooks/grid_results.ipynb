{
 "cells": [
  {
   "cell_type": "code",
   "execution_count": null,
   "metadata": {
    "collapsed": true
   },
   "outputs": [],
   "source": [
    "from sklearn.metrics import classification_report\n",
    "\n",
    "best_estimator = grid.best_estimator_\n",
    "best_parameters = grid.best_params_\n",
    "\n",
    "for param, value in best_parameters.items():\n",
    "    print('{} = {}'.format(param, value))\n",
    "\n",
    "best_estimator.fit(X_train, y_train)\n",
    "\n",
    "print('Test')\n",
    "preds_test = best_estimator.predict(X_test)\n",
    "\n",
    "accuracy = np.true_divide(np.sum(preds_test == y_test), preds_test.shape[0])*100\n",
    "print(\"Accuracy in test: {:.2f}%\".format(accuracy))\n",
    "print(classification_report(y_test, preds_test))\n",
    "\n",
    "print('Train')\n",
    "preds_train = best_estimator.predict(X_train)\n",
    "\n",
    "accuracy = np.true_divide(np.sum(preds_train == y_train), preds_train.shape[0])*100\n",
    "print(\"Accuracy in train: {:.2f}%\".format(accuracy))\n",
    "print(classification_report(y_train, preds_train))"
   ]
  }
 ],
 "metadata": {
  "kernelspec": {
   "display_name": "Python 2",
   "language": "python",
   "name": "python2"
  },
  "language_info": {
   "codemirror_mode": {
    "name": "ipython",
    "version": 2
   },
   "file_extension": ".py",
   "mimetype": "text/x-python",
   "name": "python",
   "nbconvert_exporter": "python",
   "pygments_lexer": "ipython2",
   "version": "2.7.6"
  }
 },
 "nbformat": 4,
 "nbformat_minor": 0
}
