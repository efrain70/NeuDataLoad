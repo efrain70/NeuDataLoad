{
 "cells": [
  {
   "cell_type": "code",
   "execution_count": null,
   "metadata": {},
   "outputs": [],
   "source": [
    "%run ../load_files.ipynb"
   ]
  },
  {
   "cell_type": "code",
   "execution_count": null,
   "metadata": {},
   "outputs": [],
   "source": [
    "%run ../data_dti_matrixes.ipynb"
   ]
  },
  {
   "cell_type": "code",
   "execution_count": null,
   "metadata": {},
   "outputs": [],
   "source": [
    "%run ../y_multilevel.ipynb"
   ]
  },
  {
   "cell_type": "code",
   "execution_count": null,
   "metadata": {},
   "outputs": [],
   "source": [
    "y = y_values.memory"
   ]
  },
  {
   "cell_type": "code",
   "execution_count": null,
   "metadata": {},
   "outputs": [],
   "source": [
    "# Training and test subsamples\n",
    "\n",
    "from sklearn.model_selection import train_test_split\n",
    "\n",
    "X_train, X_test, y_train, y_test = train_test_split(df, y, test_size=0.2, stratify=y)"
   ]
  },
  {
   "cell_type": "code",
   "execution_count": null,
   "metadata": {},
   "outputs": [],
   "source": [
    "print(X_train.shape)\n",
    "print(X_test.shape)\n",
    "print(y_train.shape)\n",
    "print(y_test.shape)"
   ]
  },
  {
   "cell_type": "code",
   "execution_count": null,
   "metadata": {},
   "outputs": [],
   "source": [
    "from sklearn.pipeline import Pipeline\n",
    "from sklearn.decomposition import PCA\n",
    "from sklearn.linear_model import LogisticRegression\n",
    "\n",
    "from neudataload.transformer import CombineMatrixTransformer, SpreadOutMatrixTransformer, FeatureMatrixTransformer\n",
    "from neudataload.utils import all_combinations\n",
    "\n",
    "# Pipeline configuration\n",
    "pipe = Pipeline([\n",
    "    ('combining', CombineMatrixTransformer(column_name='combined')),\n",
    "    ('spread_out', SpreadOutMatrixTransformer(columns=['combined'])),\n",
    "    ('filter', FeatureMatrixTransformer(matrix_columns=['combined'])),\n",
    "\n",
    "    ('reduce_dim', PCA()),\n",
    "    ('classify', LogisticRegression(solver='liblinear'))\n",
    "])"
   ]
  },
  {
   "cell_type": "code",
   "execution_count": null,
   "metadata": {},
   "outputs": [],
   "source": [
    "# Parametrized values\n",
    "N_FEATURES_OPTIONS = range(1, 50, 3)\n",
    "PENALTY = ['l1', 'l2']\n",
    "REGULATION_C = np.linspace(1, 100, 90)\n",
    "MATRIXES = [['DTI_FA', 'DTI_L1', 'DTI_MD', 'DTI_RX', ], ['DTI_FA']]\n",
    "EXTRA_1D_COLUMS = [None] # + list(all_combinations(available_columns))                            \n",
    "\n",
    "\n",
    "param_grid = { \n",
    "        'combining__columns': MATRIXES,\n",
    "        'filter__columns': EXTRA_1D_COLUMS,\n",
    "        \n",
    "        'reduce_dim__n_components': N_FEATURES_OPTIONS,\n",
    "        'classify__penalty': PENALTY,\n",
    "        'classify__C' : REGULATION_C,\n",
    "}"
   ]
  },
  {
   "cell_type": "code",
   "execution_count": null,
   "metadata": {},
   "outputs": [],
   "source": [
    "from sklearn.model_selection import RandomizedSearchCV\n",
    "from sklearn.model_selection import StratifiedKFold\n",
    "\n",
    "# Search the best parameter combination with Cross Validation \n",
    "cv = StratifiedKFold(n_splits=3, shuffle=True)\n",
    "\n",
    "grid = RandomizedSearchCV(pipe, cv=cv, n_jobs=-1, param_distributions=param_grid, \n",
    "                          verbose=3,\n",
    "                          scoring='accuracy',\n",
    "                          n_iter = 150)\n"
   ]
  },
  {
   "cell_type": "code",
   "execution_count": null,
   "metadata": {},
   "outputs": [],
   "source": [
    "grid.fit(X_train, y_train)"
   ]
  },
  {
   "cell_type": "code",
   "execution_count": null,
   "metadata": {},
   "outputs": [],
   "source": [
    "%run ../grid_results.ipynb"
   ]
  }
 ],
 "metadata": {
  "kernelspec": {
   "display_name": "Python 3",
   "language": "python",
   "name": "python3"
  },
  "language_info": {
   "codemirror_mode": {
    "name": "ipython",
    "version": 3
   },
   "file_extension": ".py",
   "mimetype": "text/x-python",
   "name": "python",
   "nbconvert_exporter": "python",
   "pygments_lexer": "ipython3",
   "version": "3.6.5"
  }
 },
 "nbformat": 4,
 "nbformat_minor": 1
}
