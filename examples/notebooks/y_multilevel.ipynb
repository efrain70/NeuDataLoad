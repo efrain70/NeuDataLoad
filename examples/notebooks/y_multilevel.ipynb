{
 "cells": [
  {
   "cell_type": "code",
   "execution_count": 2,
   "metadata": {},
   "outputs": [],
   "source": [
    "from neudataload import get_multilabel\n",
    "\n",
    "# Binarizing profile feature\n",
    "groups = {'none': [],\n",
    "          'HV': [],\n",
    "          'memory': ['memory'],\n",
    "          'attention': ['attention'],\n",
    "          'mem_att': ['memory', 'attention']\n",
    "          }\n",
    "\n",
    "y_values = get_multilabel(df, 'profile', groups)\n",
    "display(y_values.head())"
   ]
  },
  {
   "cell_type": "code",
   "execution_count": null,
   "metadata": {},
   "outputs": [],
   "source": [
    "display(y_values.shape)"
   ]
  }
 ],
 "metadata": {
  "kernelspec": {
   "display_name": "Python 3",
   "language": "python",
   "name": "python3"
  },
  "language_info": {
   "codemirror_mode": {
    "name": "ipython",
    "version": 3
   },
   "file_extension": ".py",
   "mimetype": "text/x-python",
   "name": "python",
   "nbconvert_exporter": "python",
   "pygments_lexer": "ipython3",
   "version": "3.6.5"
  }
 },
 "nbformat": 4,
 "nbformat_minor": 1
}
